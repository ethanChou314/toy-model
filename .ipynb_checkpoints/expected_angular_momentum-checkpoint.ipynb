{
 "cells": [
  {
   "cell_type": "code",
   "execution_count": 1,
   "id": "6d94e535",
   "metadata": {},
   "outputs": [],
   "source": [
    "import sys\n",
    "sys.path.append(\"./defect_atom_diag\")"
   ]
  },
  {
   "cell_type": "code",
   "execution_count": 2,
   "id": "6000b75b",
   "metadata": {},
   "outputs": [],
   "source": [
    "import numpy as np\n",
    "import pandas as pd\n",
    "from functools import lru_cache as cache\n",
    "from apply_sym_wan import make_ylm_wanns"
   ]
  },
  {
   "cell_type": "code",
   "execution_count": 3,
   "id": "96e76e07",
   "metadata": {},
   "outputs": [],
   "source": [
    "N_MESH: int = 1000"
   ]
  },
  {
   "cell_type": "code",
   "execution_count": 4,
   "id": "64d618a1",
   "metadata": {},
   "outputs": [],
   "source": [
    "@cache\n",
    "def ylm_wrapper(ll, rad_scale):\n",
    "    return make_ylm_wanns(ll, (N_MESH,)*3, \"cubic\", rad_scale)"
   ]
  },
  {
   "cell_type": "code",
   "execution_count": 5,
   "id": "35769998",
   "metadata": {},
   "outputs": [],
   "source": [
    "def integrate(A, delr):\n",
    "    \"\"\"\n",
    "    Take the numerical integration (using summation approximation)\n",
    "    \n",
    "    Parameters:\n",
    "        A (3d array): matrix of values to be integrated\n",
    "        delr (list[float]): (dx, dy, dz)\n",
    "    \"\"\"\n",
    "    return np.sum(A) * np.product(delr)\n",
    "\n",
    "\n",
    "def avg_ang_mom(psi, h_bar=1):\n",
    "    \"\"\"\n",
    "    Take the average of angular momentum using wave function.\n",
    "    \n",
    "    Parameters:\n",
    "        psi (3d array): wave function\n",
    "        delr (list[float]): (dx, dy, dz)\n",
    "        h_bar (float): value of reduced planck constant. Uses 1 by default.\n",
    "    \"\"\"\n",
    "    # check if psi is real:\n",
    "    if np.all(np.isreal(psi)):\n",
    "        raise ValueError(\"psi is a real matrix\")\n",
    "    \n",
    "    # construct axes:\n",
    "    x = np.linspace(-1, 1, psi.shape[0])\n",
    "    y = np.linspace(-1, 1, psi.shape[1])\n",
    "    z = np.linspace(-1, 1, psi.shape[2])\n",
    "    delr = (x[1]-x[0], y[1]-y[0], z[1]-z[0])\n",
    "    xx, yy, zz = np.meshgrid(x, y, z, indexing=\"ij\")\n",
    "    \n",
    "    if psi.shape != xx.shape:\n",
    "        raise ValueError(\"Dimension mismatch\")\n",
    "        \n",
    "    # complex conjugate of wave function:\n",
    "    psi_conj = np.conjugate(psi)\n",
    "    \n",
    "    # partial derivatives:\n",
    "    dpsi_dx, dpsi_dy, dpsi_dz = np.gradient(psi, *delr)\n",
    "    \n",
    "    # value of operator in each dimension:\n",
    "    const = -1j * h_bar  # constant (-i*h_bar)\n",
    "    L_x_op = const * (yy * dpsi_dz - zz * dpsi_dy)\n",
    "    L_y_op = const * (zz * dpsi_dx - xx * dpsi_dz)\n",
    "    L_z_op = const * (xx * dpsi_dy - yy * dpsi_dx)\n",
    "    \n",
    "    # average in each dimension\n",
    "    L_x = np.real(integrate(psi_conj * L_x_op, delr))\n",
    "    L_y = np.real(integrate(psi_conj * L_y_op, delr))\n",
    "    L_z = np.real(integrate(psi_conj * L_z_op, delr))\n",
    "    \n",
    "    return L_x, L_y, L_z"
   ]
  },
  {
   "cell_type": "code",
   "execution_count": 6,
   "id": "4bcaf6ad",
   "metadata": {},
   "outputs": [],
   "source": [
    "def create_table(ll_range=[0, 3], rad_scale=0.01, h_bar=1):\n",
    "    min_l = ll_range[0]\n",
    "    max_l = ll_range[-1]\n",
    "\n",
    "    col_headers = [f\"m={m}\" for m in range(-max_l, max_l + 1)]\n",
    "    row_headers = [f\"l={l}\" for l in range(min_l, max_l + 1)]\n",
    "\n",
    "    data = []\n",
    "    \n",
    "    for l in range(min_l, max_l + 1):\n",
    "        psi = ylm_wrapper(l, rad_scale)[0]\n",
    "        \n",
    "        row = []\n",
    "        \n",
    "        i = 0\n",
    "        for m in range(-max_l, max_l + 1):\n",
    "            if -l <= m <= l:\n",
    "                Lx, Ly, Lz = avg_ang_mom(psi[i], h_bar)\n",
    "                print((Lx, Ly, Lz))\n",
    "                # Store the vector as a tuple\n",
    "                row.append((Lx, Ly, Lz))\n",
    "                i += 1\n",
    "            else:\n",
    "                row.append(\"-\")\n",
    "            \n",
    "        data.append(row)\n",
    "\n",
    "    df = pd.DataFrame(data, index=row_headers, columns=col_headers)\n",
    "    return df"
   ]
  },
  {
   "cell_type": "code",
   "execution_count": null,
   "id": "7180db53",
   "metadata": {},
   "outputs": [],
   "source": [
    "create_table()"
   ]
  },
  {
   "cell_type": "code",
   "execution_count": null,
   "id": "d0d21729",
   "metadata": {},
   "outputs": [],
   "source": []
  }
 ],
 "metadata": {
  "kernelspec": {
   "display_name": "Python 3.8",
   "language": "python",
   "name": "python38"
  },
  "language_info": {
   "codemirror_mode": {
    "name": "ipython",
    "version": 3
   },
   "file_extension": ".py",
   "mimetype": "text/x-python",
   "name": "python",
   "nbconvert_exporter": "python",
   "pygments_lexer": "ipython3",
   "version": "3.8.8"
  }
 },
 "nbformat": 4,
 "nbformat_minor": 5
}
