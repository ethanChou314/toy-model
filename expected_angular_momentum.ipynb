{
 "cells": [
  {
   "cell_type": "code",
   "execution_count": 1,
   "id": "9c2f2d6c",
   "metadata": {},
   "outputs": [],
   "source": [
    "import sys\n",
    "sys.path.append(\"./defect_atom_diag\")"
   ]
  },
  {
   "cell_type": "code",
   "execution_count": 2,
   "id": "9edaa150",
   "metadata": {},
   "outputs": [],
   "source": [
    "import numpy as np\n",
    "import pandas as pd\n",
    "from functools import lru_cache as cache\n",
    "from apply_sym_wan import make_ylm_wanns"
   ]
  },
  {
   "cell_type": "code",
   "execution_count": 3,
   "id": "4ed90db9",
   "metadata": {},
   "outputs": [],
   "source": [
    "N_MESH: int = 100"
   ]
  },
  {
   "cell_type": "code",
   "execution_count": 4,
   "id": "115e2c47",
   "metadata": {},
   "outputs": [],
   "source": [
    "@cache\n",
    "def ylm_wrapper(ll, rad_scale):\n",
    "    return make_ylm_wanns(ll, (N_MESH,)*3, \"cubic\", rad_scale)"
   ]
  },
  {
   "cell_type": "code",
   "execution_count": 5,
   "id": "249df4da",
   "metadata": {},
   "outputs": [],
   "source": [
    "def integrate(A, delr):\n",
    "    \"\"\"\n",
    "    Take the numerical integration (using summation approximation)\n",
    "    \n",
    "    Parameters:\n",
    "        A (3d array): matrix of values to be integrated\n",
    "        delr (list[float]): (dx, dy, dz)\n",
    "    \"\"\"\n",
    "    return np.sum(A) * np.product(delr)\n",
    "\n",
    "\n",
    "def avg_ang_mom(psi, h_bar=1):\n",
    "    \"\"\"\n",
    "    Take the average of angular momentum using wave function.\n",
    "    \n",
    "    Parameters:\n",
    "        psi (3d array): wave function\n",
    "        delr (list[float]): (dx, dy, dz)\n",
    "        h_bar (float): value of reduced planck constant. Uses 1 by default.\n",
    "    \"\"\"\n",
    "    # check if psi is real:\n",
    "    if np.all(np.isreal(psi)):\n",
    "        raise ValueError(\"psi is a real matrix\")\n",
    "    \n",
    "    # construct axes:\n",
    "    x = np.linspace(-1, 1, psi.shape[0])\n",
    "    y = np.linspace(-1, 1, psi.shape[1])\n",
    "    z = np.linspace(-1, 1, psi.shape[2])\n",
    "    delr = (x[1]-x[0], y[1]-y[0], z[1]-z[0])\n",
    "    xx, yy, zz = np.meshgrid(x, y, z, indexing=\"ij\")\n",
    "    \n",
    "    if psi.shape != xx.shape:\n",
    "        raise ValueError(\"Dimension mismatch\")\n",
    "        \n",
    "    # complex conjugate of wave function:\n",
    "    psi_conj = np.conjugate(psi)\n",
    "    \n",
    "    # partial derivatives:\n",
    "    dpsi_dx, dpsi_dy, dpsi_dz = np.gradient(psi, *delr)\n",
    "    \n",
    "    # value of operator in each dimension:\n",
    "    const = -1j * h_bar  # constant (-i*h_bar)\n",
    "    L_x_op = const * (yy * dpsi_dz - zz * dpsi_dy)\n",
    "    L_y_op = const * (zz * dpsi_dx - xx * dpsi_dz)\n",
    "    L_z_op = const * (xx * dpsi_dy - yy * dpsi_dx)\n",
    "    \n",
    "    # average in each dimension\n",
    "    L_x = np.real(integrate(psi_conj * L_x_op, delr))\n",
    "    L_y = np.real(integrate(psi_conj * L_y_op, delr))\n",
    "    L_z = np.real(integrate(psi_conj * L_z_op, delr))\n",
    "    \n",
    "    return L_x, L_y, L_z"
   ]
  },
  {
   "cell_type": "code",
   "execution_count": 6,
   "id": "918bee0d",
   "metadata": {},
   "outputs": [],
   "source": [
    "def create_table(ll_range=[0, 3], rad_scale=0.01, h_bar=1):\n",
    "    min_l = ll_range[0]\n",
    "    max_l = ll_range[-1]\n",
    "\n",
    "    col_headers = [f\"m={m}\" for m in range(-max_l, max_l + 1)]\n",
    "    row_headers = [f\"l={l}\" for l in range(min_l, max_l + 1)]\n",
    "\n",
    "    data = []\n",
    "    \n",
    "    for l in range(min_l, max_l + 1):\n",
    "        psi = ylm_wrapper(l, rad_scale)[0]\n",
    "        \n",
    "        row = []\n",
    "        \n",
    "        i = 0\n",
    "        for m in range(-max_l, max_l + 1):\n",
    "            if -l <= m <= l:\n",
    "                Lx, Ly, Lz = avg_ang_mom(psi[i], h_bar)\n",
    "                print((Lx, Ly, Lz))\n",
    "                # Store the vector as a tuple\n",
    "                row.append((Lx, Ly, Lz))\n",
    "                i += 1\n",
    "            else:\n",
    "                row.append(\"-\")\n",
    "            \n",
    "        data.append(row)\n",
    "\n",
    "    df = pd.DataFrame(data, index=row_headers, columns=col_headers)\n",
    "    return df"
   ]
  },
  {
   "cell_type": "code",
   "execution_count": 7,
   "id": "118c3ba4",
   "metadata": {},
   "outputs": [
    {
     "ename": "ValueError",
     "evalue": "psi is a real matrix",
     "output_type": "error",
     "traceback": [
      "\u001b[0;31m---------------------------------------------------------------------------\u001b[0m",
      "\u001b[0;31mValueError\u001b[0m                                Traceback (most recent call last)",
      "\u001b[0;32m<ipython-input-7-11fb04590635>\u001b[0m in \u001b[0;36m<module>\u001b[0;34m\u001b[0m\n\u001b[0;32m----> 1\u001b[0;31m \u001b[0mdf\u001b[0m \u001b[0;34m=\u001b[0m \u001b[0mcreate_table\u001b[0m\u001b[0;34m(\u001b[0m\u001b[0mll_range\u001b[0m\u001b[0;34m=\u001b[0m\u001b[0;34m[\u001b[0m\u001b[0;36m0\u001b[0m\u001b[0;34m,\u001b[0m \u001b[0;36m0\u001b[0m\u001b[0;34m]\u001b[0m\u001b[0;34m)\u001b[0m\u001b[0;34m\u001b[0m\u001b[0;34m\u001b[0m\u001b[0m\n\u001b[0m",
      "\u001b[0;32m<ipython-input-6-5fa527d3025a>\u001b[0m in \u001b[0;36mcreate_table\u001b[0;34m(ll_range, rad_scale, h_bar)\u001b[0m\n\u001b[1;32m     16\u001b[0m         \u001b[0;32mfor\u001b[0m \u001b[0mm\u001b[0m \u001b[0;32min\u001b[0m \u001b[0mrange\u001b[0m\u001b[0;34m(\u001b[0m\u001b[0;34m-\u001b[0m\u001b[0mmax_l\u001b[0m\u001b[0;34m,\u001b[0m \u001b[0mmax_l\u001b[0m \u001b[0;34m+\u001b[0m \u001b[0;36m1\u001b[0m\u001b[0;34m)\u001b[0m\u001b[0;34m:\u001b[0m\u001b[0;34m\u001b[0m\u001b[0;34m\u001b[0m\u001b[0m\n\u001b[1;32m     17\u001b[0m             \u001b[0;32mif\u001b[0m \u001b[0;34m-\u001b[0m\u001b[0ml\u001b[0m \u001b[0;34m<=\u001b[0m \u001b[0mm\u001b[0m \u001b[0;34m<=\u001b[0m \u001b[0ml\u001b[0m\u001b[0;34m:\u001b[0m\u001b[0;34m\u001b[0m\u001b[0;34m\u001b[0m\u001b[0m\n\u001b[0;32m---> 18\u001b[0;31m                 \u001b[0mLx\u001b[0m\u001b[0;34m,\u001b[0m \u001b[0mLy\u001b[0m\u001b[0;34m,\u001b[0m \u001b[0mLz\u001b[0m \u001b[0;34m=\u001b[0m \u001b[0mavg_ang_mom\u001b[0m\u001b[0;34m(\u001b[0m\u001b[0mpsi\u001b[0m\u001b[0;34m[\u001b[0m\u001b[0mi\u001b[0m\u001b[0;34m]\u001b[0m\u001b[0;34m,\u001b[0m \u001b[0mh_bar\u001b[0m\u001b[0;34m)\u001b[0m\u001b[0;34m\u001b[0m\u001b[0;34m\u001b[0m\u001b[0m\n\u001b[0m\u001b[1;32m     19\u001b[0m                 \u001b[0mprint\u001b[0m\u001b[0;34m(\u001b[0m\u001b[0;34m(\u001b[0m\u001b[0mLx\u001b[0m\u001b[0;34m,\u001b[0m \u001b[0mLy\u001b[0m\u001b[0;34m,\u001b[0m \u001b[0mLz\u001b[0m\u001b[0;34m)\u001b[0m\u001b[0;34m)\u001b[0m\u001b[0;34m\u001b[0m\u001b[0;34m\u001b[0m\u001b[0m\n\u001b[1;32m     20\u001b[0m                 \u001b[0;31m# Store the vector as a tuple\u001b[0m\u001b[0;34m\u001b[0m\u001b[0;34m\u001b[0m\u001b[0;34m\u001b[0m\u001b[0m\n",
      "\u001b[0;32m<ipython-input-5-7fa5b02887a2>\u001b[0m in \u001b[0;36mavg_ang_mom\u001b[0;34m(psi, h_bar)\u001b[0m\n\u001b[1;32m     21\u001b[0m     \u001b[0;31m# check if psi is real:\u001b[0m\u001b[0;34m\u001b[0m\u001b[0;34m\u001b[0m\u001b[0;34m\u001b[0m\u001b[0m\n\u001b[1;32m     22\u001b[0m     \u001b[0;32mif\u001b[0m \u001b[0mnp\u001b[0m\u001b[0;34m.\u001b[0m\u001b[0mall\u001b[0m\u001b[0;34m(\u001b[0m\u001b[0mnp\u001b[0m\u001b[0;34m.\u001b[0m\u001b[0misreal\u001b[0m\u001b[0;34m(\u001b[0m\u001b[0mpsi\u001b[0m\u001b[0;34m)\u001b[0m\u001b[0;34m)\u001b[0m\u001b[0;34m:\u001b[0m\u001b[0;34m\u001b[0m\u001b[0;34m\u001b[0m\u001b[0m\n\u001b[0;32m---> 23\u001b[0;31m         \u001b[0;32mraise\u001b[0m \u001b[0mValueError\u001b[0m\u001b[0;34m(\u001b[0m\u001b[0;34m\"psi is a real matrix\"\u001b[0m\u001b[0;34m)\u001b[0m\u001b[0;34m\u001b[0m\u001b[0;34m\u001b[0m\u001b[0m\n\u001b[0m\u001b[1;32m     24\u001b[0m \u001b[0;34m\u001b[0m\u001b[0m\n\u001b[1;32m     25\u001b[0m     \u001b[0;31m# construct axes:\u001b[0m\u001b[0;34m\u001b[0m\u001b[0;34m\u001b[0m\u001b[0;34m\u001b[0m\u001b[0m\n",
      "\u001b[0;31mValueError\u001b[0m: psi is a real matrix"
     ]
    }
   ],
   "source": [
    "df = create_table(ll_range=[0, 0])"
   ]
  },
  {
   "cell_type": "code",
   "execution_count": null,
   "id": "26d55134",
   "metadata": {},
   "outputs": [],
   "source": []
  },
  {
   "cell_type": "code",
   "execution_count": null,
   "id": "5a180997",
   "metadata": {},
   "outputs": [],
   "source": []
  }
 ],
 "metadata": {
  "kernelspec": {
   "display_name": "Python 3.8",
   "language": "python",
   "name": "python38"
  },
  "language_info": {
   "codemirror_mode": {
    "name": "ipython",
    "version": 3
   },
   "file_extension": ".py",
   "mimetype": "text/x-python",
   "name": "python",
   "nbconvert_exporter": "python",
   "pygments_lexer": "ipython3",
   "version": "3.8.8"
  }
 },
 "nbformat": 4,
 "nbformat_minor": 5
}
